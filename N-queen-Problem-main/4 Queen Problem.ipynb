{
 "cells": [
  {
   "cell_type": "code",
   "execution_count": 42,
   "metadata": {},
   "outputs": [],
   "source": [
    "from random import randrange, choice\n",
    "from statistics import mean, stdev\n",
    "from copy import deepcopy"
   ]
  },
  {
   "cell_type": "code",
   "execution_count": 43,
   "metadata": {},
   "outputs": [],
   "source": [
    "class State:\n",
    "    def __init__(self, no_of_queens, board_size, queen_pos=None):\n",
    "        self.board_size = board_size\n",
    "        if queen_pos is None:\n",
    "            self.no_of_queens = no_of_queens\n",
    "            self.queen_pos = frozenset(self.random_queen_position())\n",
    "        else:\n",
    "            self.queen_pos = frozenset(queen_pos)\n",
    "            self.no_of_queens = len(self.queen_pos)\n",
    "\n",
    "    # Place N queens at random position on the board\n",
    "    def random_queen_position(self):\n",
    "        open_columns = list(range(self.board_size))\n",
    "        queen_pos = [(open_columns.pop(randrange(len(open_columns))), randrange(self.board_size)) for _ in\n",
    "                           range(self.no_of_queens)]\n",
    "        return queen_pos\n",
    "\n",
    "    # Returns all the possible moves of the current state\n",
    "    def successor_function(self):\n",
    "        moves = []\n",
    "        parent_queen_pos = list(self.queen_pos)\n",
    "        for queen_index, queen in enumerate(parent_queen_pos):\n",
    "            new_positions = [(queen[0], row) for row in range(self.board_size) if row != queen[1]]\n",
    "            for new_position in new_positions:\n",
    "                queen_pos = deepcopy(parent_queen_pos)\n",
    "                queen_pos[queen_index] = new_position\n",
    "                moves.append(State(self.no_of_queens, self.board_size, queen_pos))\n",
    "        return moves\n",
    "\n",
    "    # Checks if 2 queens are attacking each other or not\n",
    "    def is_attacking(self, queens, a, b):\n",
    "        if (a[0] == b[0]) or (a[1] == b[1]) or (abs(a[0] - b[0]) == abs(a[1] - b[1])):\n",
    "            return True\n",
    "        else:\n",
    "            return False\n",
    "            \n",
    "    # Returns number of attacking pairs of queens\n",
    "    def eval_function(self):\n",
    "        attacking_pairs = []\n",
    "        queen_pos = list(self.queen_pos)\n",
    "        left_to_check = deepcopy(queen_pos)\n",
    "        while left_to_check:\n",
    "            a = left_to_check.pop()\n",
    "            for b in left_to_check:\n",
    "                if self.is_attacking(queen_pos, a, b):\n",
    "                    attacking_pairs.append([a, b])\n",
    "        return len(attacking_pairs)"
   ]
  },
  {
   "cell_type": "code",
   "execution_count": 44,
   "metadata": {},
   "outputs": [],
   "source": [
    "class NQueenProblem:\n",
    "    def __init__(self, N, start_state=None):\n",
    "        if not start_state:\n",
    "            start_state = State(no_of_queens=N, board_size=N)\n",
    "        self.start_state = start_state\n",
    "\n",
    "    def is_goal_state(self, state):\n",
    "        return state.eval_function() == 0\n",
    "\n",
    "    # Calculating heuristic value\n",
    "    def heuristic(self, state):\n",
    "        return state.eval_function()"
   ]
  },
  {
   "cell_type": "code",
   "execution_count": 45,
   "metadata": {},
   "outputs": [],
   "source": [
    "def random_heuristic_move(current_state, problem):\n",
    "    moves = current_state.successor_function()\n",
    "    moves_heuristic = [problem.heuristic(move) for move in moves]\n",
    "    current_heuristic = problem.heuristic(current_state)\n",
    "\n",
    "    better_sol = []\n",
    "    for index, move in enumerate(moves):\n",
    "        if moves_heuristic[index] < current_heuristic:    #ignored worst states\n",
    "            better_sol.append(move)\n",
    "    if len(better_sol) != 0:\n",
    "        return choice(better_sol)         #random choice\n",
    "    else:\n",
    "        return current_state\n",
    "l=[]\n",
    "def stochastic_hill_climb(problem):\n",
    "    current_state = problem.start_state\n",
    "    current_state_heuristic = problem.heuristic(current_state)\n",
    "    path = []\n",
    "    p=0\n",
    "    while True and p<50 :\n",
    "        path.append(current_state)\n",
    "        random_move = random_heuristic_move(current_state, problem)\n",
    "        random_move_heuristic = problem.heuristic(random_move)\n",
    "        \n",
    "        if random_move_heuristic >= current_state_heuristic:\n",
    "            if(current_state_heuristic==0):\n",
    "                print(\"global minima:\", current_state_heuristic)\n",
    "            else:\n",
    "                print(\"local minima:\", current_state_heuristic)\n",
    "            l.append(current_state_heuristic)\n",
    "            break\n",
    "        else:\n",
    "            current_state = random_move\n",
    "            current_state_heuristic = random_move_heuristic\n",
    "        p=p+1\n",
    "    return {'result': 'success' if problem.is_goal_state(current_state) else 'failure',\n",
    "            'solution': path,\n",
    "            'problem': problem}"
   ]
  },
  {
   "cell_type": "code",
   "execution_count": 46,
   "metadata": {},
   "outputs": [],
   "source": [
    "def print_result(problem_set, search_function):\n",
    "    results = []\n",
    "    answer=[]\n",
    "   \n",
    "    for problem in problem_set:\n",
    "        \n",
    "        result = search_function(problem)\n",
    "        result['path_length'] = len(result['solution']) - 1\n",
    "        results.append(result)\n",
    "    results = [results,\n",
    "               [result for result in results if result['result'] == 'success'],\n",
    "               [result for result in results if result['result'] == 'failure']]\n",
    "\n",
    "    num_iterations = len(results[0])\n",
    "    successful_steps = []\n",
    "    failure_steps = []\n",
    "    \n",
    "    for x in results[1]:\n",
    "        successful_steps.append(x['path_length'])\n",
    "\n",
    "    for x in results[2]:\n",
    "        failure_steps.append(x['path_length'])\n",
    "    \n",
    "        \n",
    "    print(\"Solved : \", len(results[1])*100/num_iterations, \"%\")\n",
    "    print(\"No of steps in each successful run : \", successful_steps)\n",
    "    print(\"Average no of steps when success : \", round(mean(successful_steps)), \"\\n\")\n",
    "    print(\"Stuck : \", len(results[2])*100/num_iterations, \"%\")\n",
    "    print(\"No of steps in each failed run : \", failure_steps)\n",
    "    print(\"Average no of steps when failed : \", round(mean(failure_steps)))"
   ]
  },
  {
   "cell_type": "code",
   "execution_count": 47,
   "metadata": {
    "scrolled": true
   },
   "outputs": [
    {
     "name": "stdout",
     "output_type": "stream",
     "text": [
      "local minima: 2\n",
      "local minima: 3\n",
      "local minima: 3\n",
      "local minima: 3\n",
      "local minima: 2\n",
      "local minima: 3\n",
      "local minima: 2\n",
      "local minima: 2\n",
      "local minima: 2\n",
      "local minima: 3\n",
      "local minima: 2\n",
      "local minima: 3\n",
      "local minima: 3\n",
      "global minima: 0\n",
      "local minima: 3\n",
      "local minima: 1\n",
      "local minima: 3\n",
      "local minima: 2\n",
      "local minima: 2\n",
      "local minima: 1\n",
      "Solved :  5.0 %\n",
      "No of steps in each successful run :  [14]\n",
      "Average no of steps when success :  14 \n",
      "\n",
      "Stuck :  95.0 %\n",
      "No of steps in each failed run :  [10, 11, 6, 12, 13, 12, 9, 12, 10, 14, 8, 10, 10, 10, 11, 11, 9, 12, 15]\n",
      "Average no of steps when failed :  11\n"
     ]
    }
   ],
   "source": [
    "#n=int(input(\"Enter n:\"))\n",
    "queens_state = [NQueenProblem(16) for _ in range(20)]\n",
    "print_result(queens_state, stochastic_hill_climb)"
   ]
  },
  {
   "cell_type": "code",
   "execution_count": 48,
   "metadata": {},
   "outputs": [],
   "source": [
    "frequency = {}\n",
    "a=[]\n",
    "for item in l:\n",
    "    if item in frequency:\n",
    "      \n",
    "      frequency[item] += 1\n",
    "    else:\n",
    "     \n",
    "      frequency[item] = 1\n",
    "\n",
    "for i in frequency:\n",
    "    a.append(frequency[i])"
   ]
  },
  {
   "cell_type": "code",
   "execution_count": 49,
   "metadata": {},
   "outputs": [],
   "source": [
    "u = set(l) \n",
    "s = list(u)"
   ]
  },
  {
   "cell_type": "code",
   "execution_count": 50,
   "metadata": {},
   "outputs": [
    {
     "data": {
      "image/png": "[encoded data removed]",
      "text/plain": [
       "<Figure size 432x288 with 1 Axes>"
      ]
     },
     "metadata": {
      "needs_background": "light"
     },
     "output_type": "display_data"
    }
   ],
   "source": [
    "import matplotlib.pyplot as plt\n",
    "import numpy as np\n",
    "bars = s\n",
    "x_pos = np.arange(len(bars))\n",
    " \n",
    "# Create bars and choose color\n",
    "plt.bar(x_pos, a, color = (0.5,0.1,0.5,0.6))\n",
    " \n",
    "# Add title and axis names\n",
    "plt.title('Graph')\n",
    "plt.xlabel('Local minima')\n",
    "plt.ylabel('Frequencyy')\n",
    " \n",
    "# Create names on the x axis\n",
    "plt.xticks(x_pos, bars)\n",
    " \n",
    "# Show graph\n",
    "plt.show()"
   ]
  },
  {
   "cell_type": "code",
   "execution_count": null,
   "metadata": {},
   "outputs": [],
   "source": []
  }
 ],
 "metadata": {
  "kernelspec": {
   "display_name": "Python 3 (ipykernel)",
   "language": "python",
   "name": "python3"
  },
  "language_info": {
   "codemirror_mode": {
    "name": "ipython",
    "version": 3
   },
   "file_extension": ".py",
   "mimetype": "text/x-python",
   "name": "python",
   "nbconvert_exporter": "python",
   "pygments_lexer": "ipython3",
   "version": "3.9.7"
  }
 },
 "nbformat": 4,
 "nbformat_minor": 2
}
